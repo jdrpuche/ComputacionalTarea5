{
 "metadata": {
  "name": "interpolaciones"
 },
 "nbformat": 3,
 "nbformat_minor": 0,
 "worksheets": [
  {
   "cells": [
    {
     "cell_type": "raw",
     "metadata": {},
     "source": "# punto 2"
    },
    {
     "cell_type": "code",
     "collapsed": false,
     "input": "% pylab inline\n\n\"\"\"\ncodigo que contiene todas las interpolaciones y Fourier del punto 2 de la tarea 5\n\nautores: Enrique Araujo y Jesus Rincon\n\nFecha de creaci\u00f3n: Miercoles Oct  9; 8:27:30 COT 2013\n\"\"\"\n",
     "language": "python",
     "metadata": {},
     "outputs": [
      {
       "output_type": "stream",
       "stream": "stdout",
       "text": "Populating the interactive namespace from numpy and matplotlib\n"
      },
      {
       "metadata": {},
       "output_type": "pyout",
       "prompt_number": 1,
       "text": "'\\ncodigo que contiene todas las interpolaciones y Fourier del punto 2 de la tarea 5\\n\\nautores: Enrique Araujo y Jesus Rincon\\n\\nFecha de creaci\\xc3\\xb3n: Miercoles Oct  9; 8:27:30 COT 2013\\n'"
      }
     ],
     "prompt_number": 1
    },
    {
     "cell_type": "code",
     "collapsed": false,
     "input": "from scipy.interpolate import interp1d\n\n\ndata =np.zeros\nx= data[0: ]\ny= data[ :1]\nx1= interp1d(x, y)\ny1 = interp1d(x, y, kind='constant')\n\n\"\"\" \n\nimporta m\u00e9todos de interpolacion lineal de la librer\u00eda scipy\ninput: data\noutput: regresion constante\n\nNota: Este mismo m\u00e9todo se utiliza para regresi\u00f3n lineal\n\n\"\"\"\ndef plot(x,y,x1,y1):\n\n\"\"\"\nHace las gr\u00e1ficas de las funciones interpoladas con las originales\n\ninput x,y: Variables sin interpolar\ninput x1,y1: variables interpoladas\n\noutput: gr\u00e1ficas hechas para encontrar el periodo en forma contante\n\nNota: Funciona con todas las iteraciones.\n\n\"\"\"",
     "language": "python",
     "metadata": {},
     "outputs": [
      {
       "ename": "IndentationError",
       "evalue": "expected an indented block (<ipython-input-2-d73884ddc671>, line 31)",
       "output_type": "pyerr",
       "traceback": [
        "\u001b[1;36m  File \u001b[1;32m\"<ipython-input-2-d73884ddc671>\"\u001b[1;36m, line \u001b[1;32m31\u001b[0m\n\u001b[1;33m    \"\"\"\u001b[0m\n\u001b[1;37m       \n^\u001b[0m\n\u001b[1;31mIndentationError\u001b[0m\u001b[1;31m:\u001b[0m expected an indented block\n"
       ]
      }
     ],
     "prompt_number": 2
    },
    {
     "cell_type": "code",
     "collapsed": false,
     "input": "def fourier(x1,y1):\n\n    \"\"\"\n    Convierte los datos de las interpolaciones a forma de serie de fourier. Esto se hace mediante la tranformada r\u00e1pida de Fourier, la cual viene en ipython\n    \n    input x1,y1: Los datos de las interpolaciones\n    \n    output: afourier(Amplitud de se\u00f1al filtrada), ffourier(Frecuencia de se\u00f1al filtrada)\n    \n    \"\"\"\n    afourier=A\n    ffourier=f\n    \n    return afourier,afourierf\n\ndef spectrums(afourier,afourierf):\n    \"\"\"\n    crea los espectros de potencias para transformadas de Fourier.\n    \n    input: afourier, ffourier\n    \n    output: Gr\u00e1ficas de espectros\n    \n    \"\"\"\n    return ",
     "language": "python",
     "metadata": {},
     "outputs": [],
     "prompt_number": 3
    },
    {
     "cell_type": "code",
     "collapsed": false,
     "input": "def simpli(ffourier):\n    \"\"\"\n    Este m\u00e9todo corta las gr\u00e1ficas con periodos peque\u00f1os y grandes \n    \n    input: ffourier, periodo de la tranformada de Fourier\n    \n    output: vector con los periodos que cumplen los requerimientos(t)\n            ap(Amplitudes primas)\n    \n    \"\"\"\n    \n    f=np.zeros\n    ap=np.zeros\n    \n    return f,ap\nm=5\n\nfor i in range (0,m):\n    \n    \"\"\"\n    Encuentra el periodo de la se\u00f1al reconstruida por medio de una b\u00fasqueda.\n    input: t, periodo de la se\u00f1al reconstruida\n    ouput: periodo general tg\n    \n    \"\"\"\n    tg=1\n    \n        \nreturn tg\n    \n\n    ",
     "language": "python",
     "metadata": {},
     "outputs": [],
     "prompt_number": "*"
    },
    {
     "cell_type": "code",
     "collapsed": false,
     "input": "",
     "language": "python",
     "metadata": {},
     "outputs": []
    }
   ],
   "metadata": {}
  }
 ]
}