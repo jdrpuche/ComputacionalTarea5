{
 "metadata": {
  "name": ""
 },
 "nbformat": 3,
 "nbformat_minor": 0,
 "worksheets": [
  {
   "cells": [
    {
     "cell_type": "heading",
     "level": 1,
     "metadata": {},
     "source": [
      "Manchas Solares"
     ]
    },
    {
     "cell_type": "code",
     "collapsed": false,
     "input": [
      "% pylab inline"
     ],
     "language": "python",
     "metadata": {},
     "outputs": [
      {
       "output_type": "stream",
       "stream": "stdout",
       "text": [
        "Populating the interactive namespace from numpy and matplotlib\n"
       ]
      }
     ],
     "prompt_number": 1
    },
    {
     "cell_type": "markdown",
     "metadata": {},
     "source": [
      "Primero importamos el archivo de datos, seleccionando las columnas que nos interesan: El tiempo de medici\u00f3n y el n\u00famero de manchas solares para ese tiempo"
     ]
    },
    {
     "cell_type": "code",
     "collapsed": false,
     "input": [
      "from scipy import interpolate\n",
      "\n",
      "data = loadtxt('sparse_sample_monthrg.dat')\n",
      "year = data[:,0]\n",
      "y = data[:,2]\n",
      "month = data[:,1]\n",
      "\n",
      "x = year + month/12 #Sumo los meses de forma decimal al a\u00f1o\n",
      "\n",
      "x_new = linspace(x.min(),x.max(), 5000)\n",
      "\n",
      "f1 = interpolate.interp1d(x, y)\n",
      "f2 = interpolate.interp1d(x, y, 'cubic')\n",
      "f3 = interpolate.interp1d(x, y, 'nearest')\n",
      "\n",
      "\n",
      "y_lineal = f1(x_new) #interpolacion lineal\n",
      "\n",
      "y_cubic = f2(x_new) #interpolacion con splines cubicos\n",
      "\n",
      "y_near = f3(x_new) #interpolacion constante\n"
     ],
     "language": "python",
     "metadata": {},
     "outputs": [],
     "prompt_number": 3
    },
    {
     "cell_type": "code",
     "collapsed": false,
     "input": [
      "from scipy.fftpack import fft, fftfreq, ifft\n",
      "\n",
      "fft_lineal = fft(y_lineal)\n",
      "\n",
      "fft_cubic = fft(y_cubic)\n",
      "\n",
      "fft_near = fft(y_near)\n",
      "\n",
      "T = (x.max() - x.min())/5000\n",
      "\n",
      "freq = fftfreq(5000,T)"
     ],
     "language": "python",
     "metadata": {},
     "outputs": [],
     "prompt_number": 4
    },
    {
     "cell_type": "code",
     "collapsed": false,
     "input": [
      "semilogy(freq, abs(real(fft_cubic))**2)"
     ],
     "language": "python",
     "metadata": {},
     "outputs": [
      {
       "metadata": {},
       "output_type": "pyout",
       "prompt_number": 11,
       "text": [
        "[<matplotlib.lines.Line2D at 0x1077976d0>]"
       ]
      },
      {
       "metadata": {},
       "output_type": "display_data",
       "png": "[encoded data removed]",
       "text": [
        "<matplotlib.figure.Figure at 0x1077a5810>"
       ]
      }
     ],
     "prompt_number": 11
    },
    {
     "cell_type": "code",
     "collapsed": false,
     "input": [
      "def simpli(ffourier):\n",
      "    \"\"\"\n",
      "    Este m\u00e9todo corta las gr\u00e1ficas con periodos peque\u00f1os y grandes \n",
      "    \n",
      "    input: ffourier, periodo de la tranformada de Fourier\n",
      "    \n",
      "    output: vector con los periodos que cumplen los requerimientos(t)\n",
      "            ap(Amplitudes primas)\n",
      "    \n",
      "    \"\"\"\n",
      "    \n",
      "    f=np.zeros\n",
      "    ap=np.zeros\n",
      "    \n",
      "    return f,ap\n",
      "\n",
      "tg = 0\n",
      "for i in range (0,5):\n",
      "    tg+=i    \n",
      "    \"\"\"\n",
      "    Encuentra el periodo de la se\u00f1al reconstruida por medio de una b\u00fasqueda.\n",
      "    input: t, periodo de la se\u00f1al reconstruida\n",
      "    ouput: periodo general tg\n",
      "    \n",
      "    \"\"\"\n",
      "print tg\n",
      "    \n",
      "\n",
      "    "
     ],
     "language": "python",
     "metadata": {},
     "outputs": []
    },
    {
     "cell_type": "code",
     "collapsed": false,
     "input": [
      "x.max()"
     ],
     "language": "python",
     "metadata": {},
     "outputs": []
    },
    {
     "cell_type": "code",
     "collapsed": false,
     "input": [
      "x.min()"
     ],
     "language": "python",
     "metadata": {},
     "outputs": []
    },
    {
     "cell_type": "code",
     "collapsed": false,
     "input": [
      "print y_ba"
     ],
     "language": "python",
     "metadata": {},
     "outputs": []
    },
    {
     "cell_type": "code",
     "collapsed": false,
     "input": [],
     "language": "python",
     "metadata": {},
     "outputs": []
    }
   ],
   "metadata": {}
  }
 ]
}